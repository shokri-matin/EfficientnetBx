{
  "nbformat": 4,
  "nbformat_minor": 0,
  "metadata": {
    "colab": {
      "name": "FP-Caltech101.ipynb",
      "provenance": [],
      "collapsed_sections": []
    },
    "kernelspec": {
      "name": "python3",
      "display_name": "Python 3"
    },
    "language_info": {
      "name": "python"
    },
    "accelerator": "GPU"
  },
  "cells": [
    {
      "cell_type": "markdown",
      "metadata": {
        "id": "-xAX3tfuiD2B"
      },
      "source": [
        "## Final Project - Caltech 101\n",
        "\n",
        "1.   Using EfficentB0 to extract rich features\n",
        "2.   Using dense neural network to clasify our classes"
      ]
    },
    {
      "cell_type": "code",
      "metadata": {
        "id": "W75o4TRCGJDp"
      },
      "source": [
        "import keras\n",
        "import matplotlib\n",
        "from tensorflow.keras.applications import EfficientNetB0\n",
        "import numpy as np\n",
        "from keras.preprocessing import image\n",
        "import random\n",
        "import os\n",
        "from keras.utils import to_categorical\n",
        "from keras.preprocessing.image import ImageDataGenerator"
      ],
      "execution_count": 1,
      "outputs": []
    },
    {
      "cell_type": "markdown",
      "metadata": {
        "id": "490GB_tPGyfj"
      },
      "source": [
        "This code is going to run on google colab, so please upload caltech 101 to\n",
        "content/drive/MyDrive, then run following code"
      ]
    },
    {
      "cell_type": "code",
      "metadata": {
        "colab": {
          "base_uri": "https://localhost:8080/"
        },
        "id": "F71FE2JvGrTh",
        "outputId": "d07db44a-15b0-42f3-e1a3-80599fc6230d"
      },
      "source": [
        "!tar -xzf /content/drive/MyDrive/101_ObjectCategories.tar.gz\n",
        "!ls"
      ],
      "execution_count": 2,
      "outputs": [
        {
          "output_type": "stream",
          "text": [
            "101_ObjectCategories  drive  sample_data\n"
          ],
          "name": "stdout"
        }
      ]
    },
    {
      "cell_type": "markdown",
      "metadata": {
        "id": "h-66zCDgidiB"
      },
      "source": [
        "\n",
        "\n",
        "\n",
        "1.   Load Caltech 101 dataset\n",
        "2.   Use to_categorical method to change data labels to one-hot form\n",
        "\n",
        "Note: For EfficientNetB0 input data should range [0, 255]. Normalization is included as part of the model, so our data without preprossening is already range [0, 255]\n",
        "\n"
      ]
    },
    {
      "cell_type": "code",
      "metadata": {
        "colab": {
          "base_uri": "https://localhost:8080/"
        },
        "id": "tP8KnK_eHt9b",
        "outputId": "90faf0d2-6ce7-4790-c513-ff3e39b3bb2f"
      },
      "source": [
        "root = '101_ObjectCategories'\n",
        "exclude = ['BACKGROUND_Google']\n",
        "categories = []\n",
        "\n",
        "categories = [x[0] for x in os.walk(root) if x[0]][1:]\n",
        "categories = [c for c in categories if c not in [os.path.join(root, e) for e in exclude]]\n",
        "\n",
        "def get_image(path):\n",
        "    img = image.load_img(path, target_size = (200, 200, 3))\n",
        "    img = image.img_to_array(img)\n",
        "    return img\n",
        "\n",
        "number_of_samples = 30\n",
        "train_data = []\n",
        "test_data = []\n",
        "for c, category in enumerate(categories):\n",
        "    images = [os.path.join(dp, f) for dp, dn, filenames \n",
        "              in os.walk(category) for f in filenames \n",
        "              if os.path.splitext(f)[1].lower() in ['.jpg','.png','.jpeg']]\n",
        "    for i, img_path in enumerate(images):\n",
        "        img = get_image(img_path)\n",
        "        if i < number_of_samples:\n",
        "            train_data.append({'x':np.array(img), 'y':c})\n",
        "        else:\n",
        "            test_data.append({'x':np.array(img), 'y':c})\n",
        "\n",
        "x_train = []\n",
        "y_train = []\n",
        "x_test = []\n",
        "y_test = []\n",
        "\n",
        "x_train = np.array([t[\"x\"] for t in train_data])\n",
        "y_train = np.array([t[\"y\"] for t in train_data])\n",
        "x_test = np.array([t[\"x\"] for t in test_data])\n",
        "y_test = np.array([t[\"y\"] for t in test_data])\n",
        "\n",
        "num_classes = len(categories)\n",
        "y_train = keras.utils.to_categorical(y_train, num_classes)\n",
        "y_test = keras.utils.to_categorical(y_test, num_classes)\n",
        "\n",
        "print(\"train / test split: %d, %d\"%(len(x_train), len(x_test)))\n",
        "print(\"training data shape: \", x_train.shape)\n",
        "print(\"test data shape: \", x_test.shape)\n",
        "print(\"training labels shape: \", y_train.shape)"
      ],
      "execution_count": 3,
      "outputs": [
        {
          "output_type": "stream",
          "text": [
            "train / test split: 3030, 5647\n",
            "training data shape:  (3030, 200, 200, 3)\n",
            "test data shape:  (5647, 200, 200, 3)\n",
            "training labels shape:  (3030, 101)\n"
          ],
          "name": "stdout"
        }
      ]
    },
    {
      "cell_type": "markdown",
      "metadata": {
        "id": "SM2N2JbOij_4"
      },
      "source": [
        "Apply the augmentation on training data"
      ]
    },
    {
      "cell_type": "code",
      "metadata": {
        "id": "G0knwdOli1pI"
      },
      "source": [
        "train_datagen = ImageDataGenerator(\n",
        "        rotation_range=5,\n",
        "        width_shift_range=0.2,\n",
        "        height_shift_range=0.2,\n",
        "        zoom_range=0.5,\n",
        "        horizontal_flip=True,\n",
        "        fill_mode='nearest')\n",
        "\n",
        "train_datagen.fit(x_train)\n",
        "\n",
        "test_datagen = ImageDataGenerator()\n",
        "test_datagen.fit(x_test)"
      ],
      "execution_count": 8,
      "outputs": []
    },
    {
      "cell_type": "markdown",
      "metadata": {
        "id": "lxBWWS-AknYz"
      },
      "source": [
        "Download and set EfficientNetB0 as pretrain networks\n",
        "\n",
        "1.   We set include_top = false for both models becuase we want to those for feature extacting\n",
        "2.   We consider Imagenet as an initial weight"
      ]
    },
    {
      "cell_type": "code",
      "metadata": {
        "id": "Z1ywG2Qhkred"
      },
      "source": [
        "from tensorflow.keras.models import Sequential\n",
        "from tensorflow.keras.layers import Dense, BatchNormalization, Dropout, UpSampling2D, GlobalAveragePooling2D, Flatten, Concatenate\n",
        "from tensorflow.keras.losses import categorical_crossentropy\n",
        "from tensorflow.keras.optimizers import Adam\n",
        "import matplotlib.pyplot as plt\n",
        "\n",
        "efficient_model = EfficientNetB0(include_top=False, weights=\"imagenet\", input_tensor=None, input_shape=(200, 200, 3))\n",
        "\n",
        "for layer in efficient_model.layers:\n",
        "    if isinstance(layer, BatchNormalization):\n",
        "        layer.trainable = True\n",
        "    else: \n",
        "        layer.trainable = False"
      ],
      "execution_count": 5,
      "outputs": []
    },
    {
      "cell_type": "code",
      "metadata": {
        "colab": {
          "base_uri": "https://localhost:8080/",
          "height": 1000
        },
        "id": "4-pAfen-npoG",
        "outputId": "2164d1d8-5394-4320-ca25-8511031c5391"
      },
      "source": [
        "# Model configuration\n",
        "batch_size = 32\n",
        "loss_function = categorical_crossentropy\n",
        "num_classes = 101\n",
        "\n",
        "eff_model = Sequential()\n",
        "eff_model.add(efficient_model)\n",
        "eff_model.add(GlobalAveragePooling2D())\n",
        "eff_model.add(Dense(512, activation='relu'))\n",
        "eff_model.add(Dropout(.5))\n",
        "eff_model.add(Dense(256, activation='relu'))\n",
        "eff_model.add(Dropout(.5))\n",
        "eff_model.add(Dense(num_classes, activation='softmax'))\n",
        "\n",
        "# Compile the model\n",
        "eff_model.compile(loss=loss_function,\n",
        "                  optimizer=Adam(),\n",
        "                  metrics=['accuracy'])\n",
        "\n",
        "eff_model.summary()\n",
        "\n",
        "history = eff_model.fit(\n",
        "              train_datagen.flow(x_train,y_train, batch_size=32),\n",
        "              epochs = 10,\n",
        "              verbose = 1,\n",
        "              batch_size = batch_size,\n",
        "              validation_data = test_datagen.flow(x_test, y_test, batch_size=32)\n",
        "            )\n",
        "\n",
        "# Generate generalization metrics\n",
        "score = eff_model.evaluate(x_test, y_test, verbose=0)\n",
        "print('Test loss: {0} / Test accuracy: {1}'.format(score[0], score[1]))\n",
        "\n",
        "# Visualize history\n",
        "# Plot history: Loss\n",
        "plt.plot(history.history['val_loss'])\n",
        "plt.title('Validation loss history')\n",
        "plt.ylabel('Loss value')\n",
        "plt.xlabel('No. epoch')\n",
        "plt.show()\n",
        "\n",
        "# Plot history: Accuracy\n",
        "plt.plot(history.history['val_accuracy'])\n",
        "plt.title('Validation accuracy history')\n",
        "plt.ylabel('Accuracy value (%)')\n",
        "plt.xlabel('No. epoch')\n",
        "plt.show()"
      ],
      "execution_count": 10,
      "outputs": [
        {
          "output_type": "stream",
          "text": [
            "Model: \"sequential\"\n",
            "_________________________________________________________________\n",
            "Layer (type)                 Output Shape              Param #   \n",
            "=================================================================\n",
            "efficientnetb0 (Functional)  (None, 7, 7, 1280)        4049571   \n",
            "_________________________________________________________________\n",
            "global_average_pooling2d (Gl (None, 1280)              0         \n",
            "_________________________________________________________________\n",
            "dense (Dense)                (None, 512)               655872    \n",
            "_________________________________________________________________\n",
            "dropout (Dropout)            (None, 512)               0         \n",
            "_________________________________________________________________\n",
            "dense_1 (Dense)              (None, 256)               131328    \n",
            "_________________________________________________________________\n",
            "dropout_1 (Dropout)          (None, 256)               0         \n",
            "_________________________________________________________________\n",
            "dense_2 (Dense)              (None, 101)               25957     \n",
            "=================================================================\n",
            "Total params: 4,862,728\n",
            "Trainable params: 855,173\n",
            "Non-trainable params: 4,007,555\n",
            "_________________________________________________________________\n",
            "Epoch 1/10\n",
            "95/95 [==============================] - 81s 445ms/step - loss: 4.5225 - accuracy: 0.0448 - val_loss: 2.0144 - val_accuracy: 0.7903\n",
            "Epoch 2/10\n",
            "95/95 [==============================] - 39s 407ms/step - loss: 2.8236 - accuracy: 0.3713 - val_loss: 0.5489 - val_accuracy: 0.8477\n",
            "Epoch 3/10\n",
            "95/95 [==============================] - 39s 406ms/step - loss: 1.5111 - accuracy: 0.6058 - val_loss: 0.3304 - val_accuracy: 0.8897\n",
            "Epoch 4/10\n",
            "95/95 [==============================] - 39s 406ms/step - loss: 1.1661 - accuracy: 0.6861 - val_loss: 0.3279 - val_accuracy: 0.8691\n",
            "Epoch 5/10\n",
            "95/95 [==============================] - 39s 406ms/step - loss: 0.9433 - accuracy: 0.7392 - val_loss: 0.2918 - val_accuracy: 0.8803\n",
            "Epoch 6/10\n",
            "95/95 [==============================] - 39s 407ms/step - loss: 0.7690 - accuracy: 0.7888 - val_loss: 0.2424 - val_accuracy: 0.9200\n",
            "Epoch 7/10\n",
            "95/95 [==============================] - 39s 408ms/step - loss: 0.6911 - accuracy: 0.8081 - val_loss: 0.2514 - val_accuracy: 0.8975\n",
            "Epoch 8/10\n",
            "95/95 [==============================] - 39s 408ms/step - loss: 0.6225 - accuracy: 0.8291 - val_loss: 0.2167 - val_accuracy: 0.9239\n",
            "Epoch 9/10\n",
            "95/95 [==============================] - 39s 408ms/step - loss: 0.6098 - accuracy: 0.8223 - val_loss: 0.2142 - val_accuracy: 0.9295\n",
            "Epoch 10/10\n",
            "95/95 [==============================] - 39s 414ms/step - loss: 0.5340 - accuracy: 0.8474 - val_loss: 0.2152 - val_accuracy: 0.9272\n",
            "Test loss: 0.2152184098958969 / Test accuracy: 0.9272180199623108\n"
          ],
          "name": "stdout"
        },
        {
          "output_type": "display_data",
          "data": {
            "image/png": "[encoded data removed]",
            "text/plain": [
              "<Figure size 432x288 with 1 Axes>"
            ]
          },
          "metadata": {
            "tags": [],
            "needs_background": "light"
          }
        },
        {
          "output_type": "display_data",
          "data": {
            "image/png": "[encoded data removed]",
            "text/plain": [
              "<Figure size 432x288 with 1 Axes>"
            ]
          },
          "metadata": {
            "tags": [],
            "needs_background": "light"
          }
        }
      ]
    }
  ]
}